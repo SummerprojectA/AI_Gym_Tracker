{
 "cells": [
  {
   "cell_type": "code",
   "execution_count": null,
   "id": "ac8036cb",
   "metadata": {},
   "outputs": [],
   "source": [
    "!pip install mediapipe opencv-python"
   ]
  },
  {
   "cell_type": "code",
   "execution_count": null,
   "id": "d247a850",
   "metadata": {},
   "outputs": [],
   "source": [
    "#Dependencies\n",
    "import cv2 #opencv library for computer vision and image processing\n",
    "import mediapipe as mp #provides various pre-built machine learning models for tasks like pose estimation, face detection, hand tracking,\n",
    "import numpy as np\n",
    "mp_drawing = mp.solutions.drawing_utils #drawing utilities from MediaPipe, which are used to visualize the results of the machine learning models (e.g., drawing landmarks on detected poses).\n",
    "mp_pose = mp.solutions.pose #mports the pose estimation model from MediaPipe, specifically for detecting and estimating human poses from images or videos"
   ]
  },
  {
   "cell_type": "code",
   "execution_count": null,
   "id": "c84ff09e",
   "metadata": {},
   "outputs": [],
   "source": [
    "#Video feed \n",
    "cap = cv2.VideoCapture(0) #nitializes a video capture object (cap) that connects to the default camera (index 0).\n",
    "while cap.isOpened(): #This starts a while loop that runs as long as the video capture object (cap) is open.\n",
    "    ret, frame = cap.read() #Inside the loop, this line reads a frame from the video capture object. It returns two values: ret, a boolean indicating if a frame was successfully read, and frame, which contains the actual frame data.\n",
    "    cv2.imshow('Mediapipe Feed', frame) #This line displays the current frame in a window titled 'Mediapipe Feed' using OpenCV's imshow function.\n",
    "    \n",
    "    if cv2.waitKey(10) & 0xFF == ord('q'): #checks for a key press every 10 milliseconds (10 is the delay parameter). If the key pressed is 'q' (ord('q')), the loop breaks, ending the program.\n",
    "        break\n",
    "cap.release() #After the loop exits, this line releases the video capture object, freeing up system resources.\n",
    "cv2.destroyAllWindows() #this line closes all OpenCV windows created during the program's execution."
   ]
  },
  {
   "cell_type": "markdown",
   "id": "e9680582",
   "metadata": {},
   "source": [
    "Make Detections"
   ]
  },
  {
   "cell_type": "code",
   "execution_count": null,
   "id": "712997b9",
   "metadata": {},
   "outputs": [],
   "source": [
    "cap = cv2.VideoCapture(0)\n",
    "##mediapipe instance\n",
    "#initializes a Pose object from the Mediapipe library with specified confidence thresholds (min_detection_confidence and min_tracking_confidence). The with statement ensures that the resources associated with the Pose object are properly released after the block of code inside it is executed.\n",
    "with mp_pose.Pose(min_detection_confidence=0.5, min_tracking_confidence=0.5) as pose:\n",
    "    while cap.isOpened():\n",
    "        ret, frame = cap.read()\n",
    "        \n",
    "        #Recolor image\n",
    "        image = cv2.cvtColor(frame, cv2.COLOR_BGR2RGB)\n",
    "        image.flags.writeable = False\n",
    "        \n",
    "        results = pose.process(image) #this line processes each frame (image) using the pose estimation model (pose).\n",
    "        \n",
    "        #Recolor back to BGR\n",
    "        image.flags.writeable = True\n",
    "        image = cv2.cvtColor(image, cv2.COLOR_RGB2BGR)\n",
    "        \n",
    "        \n",
    "        \n",
    "        #Render detections\n",
    "        mp_drawing.draw_landmarks(image, results.pose_landmarks, mp_pose.POSE_CONNECTIONS,\n",
    "                                  mp_drawing.DrawingSpec(color=(245,117,66), thickness=2, circle_radius=2),\n",
    "                                  mp_drawing.DrawingSpec(color=(245,66,130), thickness=2, circle_radius=2)\n",
    "                                  )\n",
    "        \n",
    "        \n",
    "        \n",
    "        cv2.imshow('Mediapipe Feed', image)\n",
    "    \n",
    "        if cv2.waitKey(10) & 0xFF == ord('q'):\n",
    "            break\n",
    "    cap.release()\n",
    "    cv2.destroyAllWindows()\n",
    "        "
   ]
  },
  {
   "cell_type": "markdown",
   "id": "e324e5e1",
   "metadata": {},
   "source": [
    "Detect Joints"
   ]
  },
  {
   "cell_type": "code",
   "execution_count": null,
   "id": "bf3ce6df",
   "metadata": {},
   "outputs": [],
   "source": [
    "cap = cv2.VideoCapture(0)\n",
    "##mediapipe instance\n",
    "#initializes a Pose object from the Mediapipe library with specified confidence thresholds (min_detection_confidence and min_tracking_confidence). The with statement ensures that the resources associated with the Pose object are properly released after the block of code inside it is executed.\n",
    "with mp_pose.Pose(min_detection_confidence=0.5, min_tracking_confidence=0.5) as pose:\n",
    "    while cap.isOpened():\n",
    "        ret, frame = cap.read()\n",
    "        \n",
    "        #Recolor image\n",
    "        image = cv2.cvtColor(frame, cv2.COLOR_BGR2RGB)\n",
    "        image.flags.writeable = False\n",
    "        \n",
    "        results = pose.process(image) #this line processes each frame (image) using the pose estimation model (pose).\n",
    "        \n",
    "        #Recolor image\n",
    "        image.flags.writeable = True\n",
    "        image = cv2.cvtColor(image, cv2.COLOR_RGB2BGR)\n",
    "        \n",
    "        #Extract landmarks\n",
    "        #This line attempts to access the pose landmarks from the results object. The pose_landmarks attribute likely contains information about the detected pose, and landmark refers to specific points on the detected pose (e.g., joints, key body parts).\n",
    "        #try and except are used for exception handling in python\n",
    "        try:\n",
    "            landmarks = results.pose_landmarks.landmark\n",
    "            print(landmarks)\n",
    "        except:\n",
    "            pass\n",
    "        \n",
    "        #Render detections\n",
    "        mp_drawing.draw_landmarks(image, results.pose_landmarks, mp_pose.POSE_CONNECTIONS,\n",
    "                                  mp_drawing.DrawingSpec(color=(245,117,66), thickness=2, circle_radius=2),\n",
    "                                  mp_drawing.DrawingSpec(color=(245,66,130), thickness=2, circle_radius=2)\n",
    "                                  )\n",
    "        \n",
    "        \n",
    "        \n",
    "        cv2.imshow('Mediapipe Feed', image)\n",
    "    \n",
    "        if cv2.waitKey(10) & 0xFF == ord('q'):\n",
    "            break\n",
    "    cap.release()\n",
    "    cv2.destroyAllWindows()"
   ]
  },
  {
   "cell_type": "code",
   "execution_count": null,
   "id": "dbba1319",
   "metadata": {},
   "outputs": [],
   "source": [
    "landmarks[mp_pose.PoseLandmark.LEFT_SHOULDER.value]"
   ]
  },
  {
   "cell_type": "code",
   "execution_count": null,
   "id": "4f134a31",
   "metadata": {},
   "outputs": [],
   "source": [
    "landmarks[mp_pose.PoseLandmark.LEFT_ELBOW.value]"
   ]
  },
  {
   "cell_type": "code",
   "execution_count": null,
   "id": "39ab4c3c",
   "metadata": {},
   "outputs": [],
   "source": [
    "landmarks[mp_pose.PoseLandmark.LEFT_WRIST.value]"
   ]
  },
  {
   "cell_type": "markdown",
   "id": "d027db1b",
   "metadata": {},
   "source": [
    "Calculate Angles"
   ]
  },
  {
   "cell_type": "code",
   "execution_count": null,
   "id": "9a2f7ed0",
   "metadata": {},
   "outputs": [],
   "source": [
    "def calculate_angle(a,b,c):\n",
    "    a = np.array(a) #first\n",
    "    b = np.array(b) #second\n",
    "    c = np.array(c) #third\n",
    "    \n",
    "    radians = np.arctan2(c[1]-b[1], c[0]-b[0]) - np.arctan2(a[1]-b[1], a[0]-b[0])\n",
    "    angle = np.abs(radians*180.0/np.pi)\n",
    "    \n",
    "    if angle > 180.0:\n",
    "        angle= 360-angle\n",
    "    return angle"
   ]
  },
  {
   "cell_type": "code",
   "execution_count": null,
   "id": "423513b4",
   "metadata": {},
   "outputs": [],
   "source": [
    "shoulder = [landmarks[mp_pose.PoseLandmark.LEFT_SHOULDER.value].x, landmarks[mp_pose.PoseLandmark.LEFT_SHOULDER.value].y]\n",
    "elbow = [landmarks[mp_pose.PoseLandmark.LEFT_ELBOW.value].x, landmarks[mp_pose.PoseLandmark.LEFT_ELBOW.value].y]\n",
    "wrist = [landmarks[mp_pose.PoseLandmark.LEFT_WRIST.value].x, landmarks[mp_pose.PoseLandmark.LEFT_WRIST.value].y]"
   ]
  },
  {
   "cell_type": "code",
   "execution_count": null,
   "id": "2d5b6b82",
   "metadata": {},
   "outputs": [],
   "source": [
    "shoulder"
   ]
  },
  {
   "cell_type": "code",
   "execution_count": null,
   "id": "1e9abdd2",
   "metadata": {},
   "outputs": [],
   "source": [
    "shoulder, elbow, wrist\n"
   ]
  },
  {
   "cell_type": "code",
   "execution_count": null,
   "id": "d56dedce",
   "metadata": {},
   "outputs": [],
   "source": [
    "calculate_angle(shoulder, elbow, wrist)"
   ]
  },
  {
   "cell_type": "code",
   "execution_count": null,
   "id": "69405583",
   "metadata": {},
   "outputs": [],
   "source": [
    " cap = cv2.VideoCapture(0)\n",
    "##mediapipe instance\n",
    "#initializes a Pose object from the Mediapipe library with specified confidence thresholds (min_detection_confidence and min_tracking_confidence). The with statement ensures that the resources associated with the Pose object are properly released after the block of code inside it is executed.\n",
    "with mp_pose.Pose(min_detection_confidence=0.5, min_tracking_confidence=0.5) as pose:\n",
    "    while cap.isOpened():\n",
    "        ret, frame = cap.read()\n",
    "        \n",
    "        #Recolor image\n",
    "        image = cv2.cvtColor(frame, cv2.COLOR_BGR2RGB)\n",
    "        image.flags.writeable = False\n",
    "        \n",
    "        results = pose.process(image) #this line processes each frame (image) using the pose estimation model (pose).\n",
    "        \n",
    "        #Recolor image\n",
    "        image.flags.writeable = True\n",
    "        image = cv2.cvtColor(image, cv2.COLOR_RGB2BGR)\n",
    "        \n",
    "        #Extract landmarks\n",
    "        #This line attempts to access the pose landmarks from the results object. The pose_landmarks attribute likely contains information about the detected pose, and landmark refers to specific points on the detected pose (e.g., joints, key body parts).\n",
    "        #try and except are used for exception handling in python\n",
    "        try:\n",
    "            landmarks = results.pose_landmarks.landmark\n",
    "            \n",
    "            #Getting coordinates\n",
    "            shoulder = [landmarks[mp_pose.PoseLandmark.LEFT_SHOULDER.value].x, landmarks[mp_pose.PoseLandmark.LEFT_SHOULDER.value].y]\n",
    "            elbow = [landmarks[mp_pose.PoseLandmark.LEFT_ELBOW.value].x, landmarks[mp_pose.PoseLandmark.LEFT_ELBOW.value].y]\n",
    "            wrist = [landmarks[mp_pose.PoseLandmark.LEFT_WRIST.value].x, landmarks[mp_pose.PoseLandmark.LEFT_WRIST.value].y]\n",
    "            \n",
    "            #Calculate angle\n",
    "            angle = calculate_angle(shoulder, elbow, wrist)\n",
    "            \n",
    "            #Visualize angle\n",
    "            cv2.putText(image, str(angle),\n",
    "                           tuple(np.multiply(elbow, [640, 480]).astype(int)),\n",
    "                           cv2.FONT_HERSHEY_SIMPLEX, 0.5, (255, 255, 255), 2, cv2.LINE_AA\n",
    "                       )\n",
    "            print(landmarks)\n",
    "        except:\n",
    "            pass\n",
    "        \n",
    "        #Render detections\n",
    "        mp_drawing.draw_landmarks(image, results.pose_landmarks, mp_pose.POSE_CONNECTIONS,\n",
    "                                  mp_drawing.DrawingSpec(color=(245,117,66), thickness=2, circle_radius=2),\n",
    "                                  mp_drawing.DrawingSpec(color=(245,66,130), thickness=2, circle_radius=2)\n",
    "                                  )\n",
    "        \n",
    "        \n",
    "        \n",
    "        cv2.imshow('Mediapipe Feed', image)\n",
    "    \n",
    "        if cv2.waitKey(10) & 0xFF == ord('q'):\n",
    "            break\n",
    "    cap.release()\n",
    "    cv2.destroyAllWindows()"
   ]
  },
  {
   "cell_type": "markdown",
   "id": "93db3c61",
   "metadata": {},
   "source": [
    "Curl Counter"
   ]
  },
  {
   "cell_type": "code",
   "execution_count": null,
   "id": "edf54d68",
   "metadata": {},
   "outputs": [],
   "source": [
    "cap = cv2.VideoCapture(0)\n",
    " \n",
    "#curl counter variables\n",
    "counter = 0\n",
    "stage = None\n",
    "\n",
    "##mediapipe instance\n",
    "#initializes a Pose object from the Mediapipe library with specified confidence thresholds (min_detection_confidence and min_tracking_confidence). The with statement ensures that the resources associated with the Pose object are properly released after the block of code inside it is executed.\n",
    "with mp_pose.Pose(min_detection_confidence=0.5, min_tracking_confidence=0.5) as pose:\n",
    "    while cap.isOpened():\n",
    "        ret, frame = cap.read()\n",
    "        \n",
    "        #Recolor image\n",
    "        image = cv2.cvtColor(frame, cv2.COLOR_BGR2RGB)\n",
    "        image.flags.writeable = False\n",
    "        \n",
    "        results = pose.process(image) #this line processes each frame (image) using the pose estimation model (pose).\n",
    "        \n",
    "        #Recolor image\n",
    "        image.flags.writeable = True\n",
    "        image = cv2.cvtColor(image, cv2.COLOR_RGB2BGR)\n",
    "        \n",
    "        #Extract landmarks\n",
    "        #This line attempts to access the pose landmarks from the results object. The pose_landmarks attribute likely contains information about the detected pose, and landmark refers to specific points on the detected pose (e.g., joints, key body parts).\n",
    "        #try and except are used for exception handling in python\n",
    "        try:\n",
    "            landmarks = results.pose_landmarks.landmark\n",
    "            \n",
    "            #Getting coordinates\n",
    "            shoulder = [landmarks[mp_pose.PoseLandmark.LEFT_SHOULDER.value].x, landmarks[mp_pose.PoseLandmark.LEFT_SHOULDER.value].y]\n",
    "            elbow = [landmarks[mp_pose.PoseLandmark.LEFT_ELBOW.value].x, landmarks[mp_pose.PoseLandmark.LEFT_ELBOW.value].y]\n",
    "            wrist = [landmarks[mp_pose.PoseLandmark.LEFT_WRIST.value].x, landmarks[mp_pose.PoseLandmark.LEFT_WRIST.value].y]\n",
    "            \n",
    "            #Calculate angle\n",
    "            angle = calculate_angle(shoulder, elbow, wrist)\n",
    "            \n",
    "            #Visualize angle\n",
    "            cv2.putText(image, str(angle),\n",
    "                           tuple(np.multiply(elbow, [640, 480]).astype(int)),\n",
    "                           cv2.FONT_HERSHEY_SIMPLEX, 0.5, (255, 255, 255), 2, cv2.LINE_AA\n",
    "                       )\n",
    "            #Curl Counter logic\n",
    "            if angle > 160:\n",
    "                stage = \"down\"\n",
    "            if angle < 30 and stage == \"down\":\n",
    "                stage = \"up\"\n",
    "                counter +=1\n",
    "               # print(counter)\n",
    "        except:\n",
    "            pass\n",
    "        \n",
    "        #Render curl counter\n",
    "        #Setup status box\n",
    "        cv2.rectangle(image, (0,0), (225,73), (245,117,16), -1)\n",
    "        \n",
    "        #Rep data\n",
    "        cv2.putText(image, 'REPS', (15,12),\n",
    "                    cv2.FONT_HERSHEY_SIMPLEX, 0.5, (0,0,0), 1, cv2.LINE_AA)\n",
    "        cv2.putText(image, str(counter),\n",
    "                    (10,60),\n",
    "                    cv2.FONT_HERSHEY_SIMPLEX, 2, (255,255,255), 2, cv2.LINE_AA)\n",
    "        #Stage data\n",
    "        cv2.putText(image, 'STAGE', (55,12),\n",
    "                    cv2.FONT_HERSHEY_SIMPLEX, 0.5, (0,0,0), 1, cv2.LINE_AA)\n",
    "        cv2.putText(image, stage,\n",
    "                    (60,60),\n",
    "                    cv2.FONT_HERSHEY_SIMPLEX, 2, (255,255,255), 2, cv2.LINE_AA)\n",
    "        \n",
    "        #Render detections\n",
    "        mp_drawing.draw_landmarks(image, results.pose_landmarks, mp_pose.POSE_CONNECTIONS,\n",
    "                                  mp_drawing.DrawingSpec(color=(245,117,66), thickness=2, circle_radius=2),\n",
    "                                  mp_drawing.DrawingSpec(color=(245,66,130), thickness=2, circle_radius=2)\n",
    "                                  )\n",
    "        \n",
    "        \n",
    "        \n",
    "        cv2.imshow('Mediapipe Feed', image)\n",
    "    \n",
    "        if cv2.waitKey(10) & 0xFF == ord('q'):\n",
    "            break\n",
    "    cap.release()\n",
    "    cv2.destroyAllWindows() "
   ]
  },
  {
   "cell_type": "code",
   "execution_count": null,
   "id": "e0bafe1a",
   "metadata": {},
   "outputs": [],
   "source": []
  },
  {
   "cell_type": "code",
   "execution_count": null,
   "id": "eb9a9732",
   "metadata": {},
   "outputs": [],
   "source": []
  }
 ],
 "metadata": {
  "kernelspec": {
   "display_name": "Python 3 (ipykernel)",
   "language": "python",
   "name": "python3"
  },
  "language_info": {
   "codemirror_mode": {
    "name": "ipython",
    "version": 3
   },
   "file_extension": ".py",
   "mimetype": "text/x-python",
   "name": "python",
   "nbconvert_exporter": "python",
   "pygments_lexer": "ipython3",
   "version": "3.10.9"
  }
 },
 "nbformat": 4,
 "nbformat_minor": 5
}
